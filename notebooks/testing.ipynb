{
 "cells": [
  {
   "cell_type": "markdown",
   "metadata": {},
   "source": [
    "# Testing"
   ]
  },
  {
   "cell_type": "code",
   "execution_count": 21,
   "metadata": {},
   "outputs": [],
   "source": [
    "library(acsr)"
   ]
  },
  {
   "cell_type": "code",
   "execution_count": 22,
   "metadata": {},
   "outputs": [],
   "source": [
    "api.key.install(key=\"926983368457604ed165dc0d2618e58152397d22\")"
   ]
  },
  {
   "cell_type": "code",
   "execution_count": 23,
   "metadata": {},
   "outputs": [],
   "source": [
    "f = fread('data/moe_FS_16.csv')"
   ]
  },
  {
   "cell_type": "code",
   "execution_count": 24,
   "metadata": {},
   "outputs": [],
   "source": [
    "#sumacs"
   ]
  },
  {
   "cell_type": "code",
   "execution_count": null,
   "metadata": {},
   "outputs": [],
   "source": [
    "out = sumacs(f$formula, varname=f$myfield, method=f$type,\n",
    "       level = 'county.subdivision', endyear=2016, \n",
    "            file = 'example.csv')"
   ]
  },
  {
   "cell_type": "markdown",
   "metadata": {},
   "source": [
    "# Additional examples"
   ]
  },
  {
   "cell_type": "markdown",
   "metadata": {},
   "source": [
    "## r95hhincper_1216"
   ]
  },
  {
   "cell_type": "code",
   "execution_count": null,
   "metadata": {},
   "outputs": [],
   "source": [
    "form1 = f[myfield=='r95hhincper_1216', formula]"
   ]
  },
  {
   "cell_type": "code",
   "execution_count": null,
   "metadata": {},
   "outputs": [],
   "source": [
    "sumacs(form1, level = 'county.subdivision', county='Rusk', \n",
    "       endyear=2016, method='ratio')"
   ]
  },
  {
   "cell_type": "markdown",
   "metadata": {},
   "source": [
    "## medrent1216"
   ]
  },
  {
   "cell_type": "code",
   "execution_count": null,
   "metadata": {},
   "outputs": [],
   "source": [
    "form2 = f[myfield=='medrent1216', formula] "
   ]
  },
  {
   "cell_type": "markdown",
   "metadata": {},
   "source": [
    "When you want to extract just one variable use the method variable or do not define a method (variable method is the default now)."
   ]
  },
  {
   "cell_type": "code",
   "execution_count": null,
   "metadata": {},
   "outputs": [],
   "source": [
    "sumacs(form2, level = 'county.subdivision', county='Rusk', endyear=2016)"
   ]
  },
  {
   "cell_type": "markdown",
   "metadata": {},
   "source": [
    "## Direct API"
   ]
  },
  {
   "cell_type": "markdown",
   "metadata": {},
   "source": [
    "Using API directly:"
   ]
  },
  {
   "cell_type": "code",
   "execution_count": null,
   "metadata": {},
   "outputs": [],
   "source": [
    "https://api.census.gov/data/2016/acs/acs5?get=NAME,B19080_005E&for=county%20subdivision:*&in=state:55%20county:107&key=926983368457604ed165dc0d2618e58152397d22\n",
    "\n",
    "[[\"NAME\",\"B19080_005E\",\"state\",\"county\",\"county subdivision\"],\n",
    "[\"Atlanta town, Rusk County, Wisconsin\",\"132500\",\"55\",\"107\",\"03600\"],\n",
    "[\"Big Bend town, Rusk County, Wisconsin\",\"250001\",\"55\",\"107\",\"07175\"],\n",
    "[\"Big Falls town, Rusk County, Wisconsin\",\"128063\",\"55\",\"107\",\"07225\"],\n",
    "[\"Bruce village, Rusk County, Wisconsin\",\"86179\",\"55\",\"107\",\"10500\"],\n",
    "[\"Cedar Rapids town, Rusk County, Wisconsin\",\"203625\",\"55\",\"107\",\"13550\"],\n",
    "[\"Conrath village, Rusk County, Wisconsin\",\"-666666666\",\"55\",\"107\",\"16775\"],\n",
    "[\"Dewey town, Rusk County, Wisconsin\",\"168107\",\"55\",\"107\",\"20000\"],\n",
    "[\"Flambeau town, Rusk County, Wisconsin\",\"136104\",\"55\",\"107\",\"26100\"],\n",
    "[\"Glen Flora village, Rusk County, Wisconsin\",\"101281\",\"55\",\"107\",\"29475\"],\n",
    "[\"Grant town, Rusk County, Wisconsin\",\"111875\",\"55\",\"107\",\"30375\"],\n",
    "[\"Grow town, Rusk County, Wisconsin\",\"136750\",\"55\",\"107\",\"31775\"],\n",
    "[\"Hawkins village, Rusk County, Wisconsin\",\"103000\",\"55\",\"107\",\"33275\"],\n",
    "[\"Hawkins town, Rusk County, Wisconsin\",\"92625\",\"55\",\"107\",\"33300\"],\n",
    "[\"Hubbard town, Rusk County, Wisconsin\",\"93917\",\"55\",\"107\",\"36125\"],\n",
    "[\"Ingram village, Rusk County, Wisconsin\",\"112625\",\"55\",\"107\",\"36925\"],\n",
    "[\"Ladysmith city, Rusk County, Wisconsin\",\"112633\",\"55\",\"107\",\"40850\"],\n",
    "[\"Lawrence town, Rusk County, Wisconsin\",\"101500\",\"55\",\"107\",\"42950\"],\n",
    "[\"Marshall town, Rusk County, Wisconsin\",\"126750\",\"55\",\"107\",\"49625\"],\n",
    "[\"Murry town, Rusk County, Wisconsin\",\"100063\",\"55\",\"107\",\"55175\"],\n",
    "[\"Richland town, Rusk County, Wisconsin\",\"133479\",\"55\",\"107\",\"67600\"],\n",
    "[\"Rusk town, Rusk County, Wisconsin\",\"208563\",\"55\",\"107\",\"70275\"],\n",
    "[\"Sheldon village, Rusk County, Wisconsin\",\"114875\",\"55\",\"107\",\"73175\"],\n",
    "[\"South Fork town, Rusk County, Wisconsin\",\"71625\",\"55\",\"107\",\"74975\"],\n",
    "[\"Strickland town, Rusk County, Wisconsin\",\"119625\",\"55\",\"107\",\"77775\"],\n",
    "[\"Stubbs town, Rusk County, Wisconsin\",\"138104\",\"55\",\"107\",\"77850\"],\n",
    "[\"Thornapple town, Rusk County, Wisconsin\",\"116500\",\"55\",\"107\",\"79575\"],\n",
    "[\"Tony village, Rusk County, Wisconsin\",\"123188\",\"55\",\"107\",\"80225\"],\n",
    "[\"True town, Rusk County, Wisconsin\",\"129083\",\"55\",\"107\",\"80950\"],\n",
    "[\"Washington town, Rusk County, Wisconsin\",\"122750\",\"55\",\"107\",\"83675\"],\n",
    "[\"Weyerhaeuser village, Rusk County, Wisconsin\",\"110688\",\"55\",\"107\",\"86450\"],\n",
    "[\"Wilkinson town, Rusk County, Wisconsin\",\"75500\",\"55\",\"107\",\"87125\"],\n",
    "[\"Willard town, Rusk County, Wisconsin\",\"128125\",\"55\",\"107\",\"87175\"],\n",
    "[\"Wilson town, Rusk County, Wisconsin\",\"157250\",\"55\",\"107\",\"87450\"]]"
   ]
  },
  {
   "cell_type": "code",
   "execution_count": null,
   "metadata": {},
   "outputs": [],
   "source": []
  }
 ],
 "metadata": {
  "kernelspec": {
   "display_name": "R",
   "language": "R",
   "name": "ir"
  },
  "language_info": {
   "codemirror_mode": "r",
   "file_extension": ".r",
   "mimetype": "text/x-r-source",
   "name": "R",
   "pygments_lexer": "r",
   "version": "3.4.1"
  }
 },
 "nbformat": 4,
 "nbformat_minor": 2
}
