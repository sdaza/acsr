{
 "cells": [
  {
   "cell_type": "markdown",
   "metadata": {},
   "source": [
    "# Testing"
   ]
  },
  {
   "cell_type": "code",
   "execution_count": 57,
   "metadata": {},
   "outputs": [],
   "source": [
    "library(acsr)"
   ]
  },
  {
   "cell_type": "code",
   "execution_count": 58,
   "metadata": {},
   "outputs": [],
   "source": [
    "f = fread('data/moe_FS_16.csv')"
   ]
  },
  {
   "cell_type": "code",
   "execution_count": 59,
   "metadata": {},
   "outputs": [
    {
     "data": {
      "text/html": [
       "<table>\n",
       "<thead><tr><th scope=col>Destination</th><th scope=col>myfield</th><th scope=col>type</th><th scope=col>formula</th></tr></thead>\n",
       "<tbody>\n",
       "\t<tr><td>Food_Sec               </td><td>r95hhincper_1216       </td><td>Ratio                  </td><td>(b19080_005/b19013_001)</td></tr>\n",
       "</tbody>\n",
       "</table>\n"
      ],
      "text/latex": [
       "\\begin{tabular}{r|llll}\n",
       " Destination & myfield & type & formula\\\\\n",
       "\\hline\n",
       "\t Food\\_Sec                  & r95hhincper\\_1216          & Ratio                       & (b19080\\_005/b19013\\_001)\\\\\n",
       "\\end{tabular}\n"
      ],
      "text/markdown": [
       "\n",
       "Destination | myfield | type | formula | \n",
       "|---|\n",
       "| Food_Sec                | r95hhincper_1216        | Ratio                   | (b19080_005/b19013_001) | \n",
       "\n",
       "\n"
      ],
      "text/plain": [
       "  Destination myfield          type  formula                \n",
       "1 Food_Sec    r95hhincper_1216 Ratio (b19080_005/b19013_001)"
      ]
     },
     "metadata": {},
     "output_type": "display_data"
    }
   ],
   "source": [
    "f[myfield=='r95hhincper_1216'] # r95hhincper_1216"
   ]
  },
  {
   "cell_type": "code",
   "execution_count": 60,
   "metadata": {},
   "outputs": [],
   "source": [
    "vars = getvars(f[myfield=='r95hhincper_1216', formula])"
   ]
  },
  {
   "cell_type": "code",
   "execution_count": 64,
   "metadata": {},
   "outputs": [
    {
     "data": {
      "text/html": [
       "'B19080_005'"
      ],
      "text/latex": [
       "'B19080\\_005'"
      ],
      "text/markdown": [
       "'B19080_005'"
      ],
      "text/plain": [
       "[1] \"B19080_005\""
      ]
     },
     "metadata": {},
     "output_type": "display_data"
    }
   ],
   "source": [
    "vars[1]"
   ]
  },
  {
   "cell_type": "code",
   "execution_count": 77,
   "metadata": {},
   "outputs": [
    {
     "name": "stdout",
     "output_type": "stream",
     "text": [
      "[1] \". . . . . .  Getting county subdivision data\"\n"
     ]
    },
    {
     "data": {
      "text/plain": [
       "$county.subdivision\n",
       "ACS DATA: \n",
       " 2011 -- 2015 ;\n",
       "  Estimates w/90% confidence intervals;\n",
       "  for different intervals, see confint()\n",
       "                                             B19080_005       \n",
       "Atlanta town, Rusk County, Wisconsin         132450 +/- 22134 \n",
       "Big Bend town, Rusk County, Wisconsin        223375 +/- 177315\n",
       "Big Falls town, Rusk County, Wisconsin       105292 +/- 22830 \n",
       "Bruce village, Rusk County, Wisconsin        85500 +/- 32561  \n",
       "Cedar Rapids town, Rusk County, Wisconsin    NA +/- NA        \n",
       "Conrath village, Rusk County, Wisconsin      NA +/- NA        \n",
       "Dewey town, Rusk County, Wisconsin           147375 +/- 48239 \n",
       "Flambeau town, Rusk County, Wisconsin        122458 +/- 32346 \n",
       "Glen Flora village, Rusk County, Wisconsin   140125 +/- 126179\n",
       "Grant town, Rusk County, Wisconsin           108500 +/- 16546 \n",
       "Grow town, Rusk County, Wisconsin            169750 +/- 86509 \n",
       "Hawkins village, Rusk County, Wisconsin      120813 +/- 33535 \n",
       "Hawkins town, Rusk County, Wisconsin         NA +/- NA        \n",
       "Hubbard town, Rusk County, Wisconsin         92000 +/- 30748  \n",
       "Ingram village, Rusk County, Wisconsin       110438 +/- 25661 \n",
       "Ladysmith city, Rusk County, Wisconsin       111257 +/- 49128 \n",
       "Lawrence town, Rusk County, Wisconsin        99200 +/- 9250   \n",
       "Marshall town, Rusk County, Wisconsin        153375 +/- 77790 \n",
       "Murry town, Rusk County, Wisconsin           100125 +/- 26081 \n",
       "Richland town, Rusk County, Wisconsin        116313 +/- 40870 \n",
       "Rusk town, Rusk County, Wisconsin            180325 +/- 77042 \n",
       "Sheldon village, Rusk County, Wisconsin      95500 +/- 46892  \n",
       "South Fork town, Rusk County, Wisconsin      86125 +/- 42149  \n",
       "Strickland town, Rusk County, Wisconsin      115531 +/- 10738 \n",
       "Stubbs town, Rusk County, Wisconsin          135250 +/- 12645 \n",
       "Thornapple town, Rusk County, Wisconsin      116643 +/- 14920 \n",
       "Tony village, Rusk County, Wisconsin         120292 +/- 51169 \n",
       "True town, Rusk County, Wisconsin            127156 +/- 8994  \n",
       "Washington town, Rusk County, Wisconsin      124625 +/- 46747 \n",
       "Weyerhaeuser village, Rusk County, Wisconsin 110900 +/- 35676 \n",
       "Wilkinson town, Rusk County, Wisconsin       NA +/- NA        \n",
       "Willard town, Rusk County, Wisconsin         136500 +/- 48076 \n",
       "Wilson town, Rusk County, Wisconsin          NA +/- NA        \n"
      ]
     },
     "metadata": {},
     "output_type": "display_data"
    }
   ],
   "source": [
    "acsdata(vars[1], level = 'county.subdivision', county='Rusk', endyear=2015)"
   ]
  },
  {
   "cell_type": "code",
   "execution_count": 76,
   "metadata": {},
   "outputs": [
    {
     "name": "stdout",
     "output_type": "stream",
     "text": [
      "[1] \". . . . . .  Getting county subdivision data\"\n"
     ]
    },
    {
     "data": {
      "text/plain": [
       "$county.subdivision\n",
       "ACS DATA: \n",
       " 2012 -- 2016 ;\n",
       "  Estimates w/90% confidence intervals;\n",
       "  for different intervals, see confint()\n",
       "                                             B19080_005               \n",
       "Atlanta town, Rusk County, Wisconsin         132500 +/- 17212         \n",
       "Big Bend town, Rusk County, Wisconsin        250001 +/- -333333333    \n",
       "Big Falls town, Rusk County, Wisconsin       128063 +/- 39418         \n",
       "Bruce village, Rusk County, Wisconsin        86179 +/- 45121          \n",
       "Cedar Rapids town, Rusk County, Wisconsin    203625 +/- 66553         \n",
       "Conrath village, Rusk County, Wisconsin      -666666666 +/- -222222222\n",
       "Dewey town, Rusk County, Wisconsin           168107 +/- 31223         \n",
       "Flambeau town, Rusk County, Wisconsin        136104 +/- 36495         \n",
       "Glen Flora village, Rusk County, Wisconsin   101281 +/- 12285         \n",
       "Grant town, Rusk County, Wisconsin           111875 +/- 13497         \n",
       "Grow town, Rusk County, Wisconsin            136750 +/- 39566         \n",
       "Hawkins village, Rusk County, Wisconsin      103000 +/- 26069         \n",
       "Hawkins town, Rusk County, Wisconsin         92625 +/- 66085          \n",
       "Hubbard town, Rusk County, Wisconsin         93917 +/- 7318           \n",
       "Ingram village, Rusk County, Wisconsin       112625 +/- 28532         \n",
       "Ladysmith city, Rusk County, Wisconsin       112633 +/- 22380         \n",
       "Lawrence town, Rusk County, Wisconsin        101500 +/- 12403         \n",
       "Marshall town, Rusk County, Wisconsin        126750 +/- 51268         \n",
       "Murry town, Rusk County, Wisconsin           100063 +/- 32587         \n",
       "Richland town, Rusk County, Wisconsin        133479 +/- 34213         \n",
       "Rusk town, Rusk County, Wisconsin            208563 +/- 141464        \n",
       "Sheldon village, Rusk County, Wisconsin      114875 +/- 31842         \n",
       "South Fork town, Rusk County, Wisconsin      71625 +/- 35520          \n",
       "Strickland town, Rusk County, Wisconsin      119625 +/- 29490         \n",
       "Stubbs town, Rusk County, Wisconsin          138104 +/- 11391         \n",
       "Thornapple town, Rusk County, Wisconsin      116500 +/- 30362         \n",
       "Tony village, Rusk County, Wisconsin         123188 +/- 56700         \n",
       "True town, Rusk County, Wisconsin            129083 +/- 14294         \n",
       "Washington town, Rusk County, Wisconsin      122750 +/- 67612         \n",
       "Weyerhaeuser village, Rusk County, Wisconsin 110688 +/- 48910         \n",
       "Wilkinson town, Rusk County, Wisconsin       75500 +/- 9793           \n",
       "Willard town, Rusk County, Wisconsin         128125 +/- 41049         \n",
       "Wilson town, Rusk County, Wisconsin          157250 +/- 124372        \n"
      ]
     },
     "metadata": {},
     "output_type": "display_data"
    }
   ],
   "source": [
    "acsdata(vars[1], level = 'county.subdivision', county='Rusk', endyear=2016)"
   ]
  },
  {
   "cell_type": "markdown",
   "metadata": {},
   "source": [
    "Using API directly:"
   ]
  },
  {
   "cell_type": "code",
   "execution_count": null,
   "metadata": {},
   "outputs": [],
   "source": [
    "https://api.census.gov/data/2016/acs/acs5?get=NAME,B19080_005E&for=county%20subdivision:*&in=state:55%20county:107&key=926983368457604ed165dc0d2618e58152397d22\n",
    "\n",
    "[[\"NAME\",\"B19080_005E\",\"state\",\"county\",\"county subdivision\"],\n",
    "[\"Atlanta town, Rusk County, Wisconsin\",\"132500\",\"55\",\"107\",\"03600\"],\n",
    "[\"Big Bend town, Rusk County, Wisconsin\",\"250001\",\"55\",\"107\",\"07175\"],\n",
    "[\"Big Falls town, Rusk County, Wisconsin\",\"128063\",\"55\",\"107\",\"07225\"],\n",
    "[\"Bruce village, Rusk County, Wisconsin\",\"86179\",\"55\",\"107\",\"10500\"],\n",
    "[\"Cedar Rapids town, Rusk County, Wisconsin\",\"203625\",\"55\",\"107\",\"13550\"],\n",
    "[\"Conrath village, Rusk County, Wisconsin\",\"-666666666\",\"55\",\"107\",\"16775\"],\n",
    "[\"Dewey town, Rusk County, Wisconsin\",\"168107\",\"55\",\"107\",\"20000\"],\n",
    "[\"Flambeau town, Rusk County, Wisconsin\",\"136104\",\"55\",\"107\",\"26100\"],\n",
    "[\"Glen Flora village, Rusk County, Wisconsin\",\"101281\",\"55\",\"107\",\"29475\"],\n",
    "[\"Grant town, Rusk County, Wisconsin\",\"111875\",\"55\",\"107\",\"30375\"],\n",
    "[\"Grow town, Rusk County, Wisconsin\",\"136750\",\"55\",\"107\",\"31775\"],\n",
    "[\"Hawkins village, Rusk County, Wisconsin\",\"103000\",\"55\",\"107\",\"33275\"],\n",
    "[\"Hawkins town, Rusk County, Wisconsin\",\"92625\",\"55\",\"107\",\"33300\"],\n",
    "[\"Hubbard town, Rusk County, Wisconsin\",\"93917\",\"55\",\"107\",\"36125\"],\n",
    "[\"Ingram village, Rusk County, Wisconsin\",\"112625\",\"55\",\"107\",\"36925\"],\n",
    "[\"Ladysmith city, Rusk County, Wisconsin\",\"112633\",\"55\",\"107\",\"40850\"],\n",
    "[\"Lawrence town, Rusk County, Wisconsin\",\"101500\",\"55\",\"107\",\"42950\"],\n",
    "[\"Marshall town, Rusk County, Wisconsin\",\"126750\",\"55\",\"107\",\"49625\"],\n",
    "[\"Murry town, Rusk County, Wisconsin\",\"100063\",\"55\",\"107\",\"55175\"],\n",
    "[\"Richland town, Rusk County, Wisconsin\",\"133479\",\"55\",\"107\",\"67600\"],\n",
    "[\"Rusk town, Rusk County, Wisconsin\",\"208563\",\"55\",\"107\",\"70275\"],\n",
    "[\"Sheldon village, Rusk County, Wisconsin\",\"114875\",\"55\",\"107\",\"73175\"],\n",
    "[\"South Fork town, Rusk County, Wisconsin\",\"71625\",\"55\",\"107\",\"74975\"],\n",
    "[\"Strickland town, Rusk County, Wisconsin\",\"119625\",\"55\",\"107\",\"77775\"],\n",
    "[\"Stubbs town, Rusk County, Wisconsin\",\"138104\",\"55\",\"107\",\"77850\"],\n",
    "[\"Thornapple town, Rusk County, Wisconsin\",\"116500\",\"55\",\"107\",\"79575\"],\n",
    "[\"Tony village, Rusk County, Wisconsin\",\"123188\",\"55\",\"107\",\"80225\"],\n",
    "[\"True town, Rusk County, Wisconsin\",\"129083\",\"55\",\"107\",\"80950\"],\n",
    "[\"Washington town, Rusk County, Wisconsin\",\"122750\",\"55\",\"107\",\"83675\"],\n",
    "[\"Weyerhaeuser village, Rusk County, Wisconsin\",\"110688\",\"55\",\"107\",\"86450\"],\n",
    "[\"Wilkinson town, Rusk County, Wisconsin\",\"75500\",\"55\",\"107\",\"87125\"],\n",
    "[\"Willard town, Rusk County, Wisconsin\",\"128125\",\"55\",\"107\",\"87175\"],\n",
    "[\"Wilson town, Rusk County, Wisconsin\",\"157250\",\"55\",\"107\",\"87450\"]]"
   ]
  },
  {
   "cell_type": "code",
   "execution_count": null,
   "metadata": {},
   "outputs": [],
   "source": []
  }
 ],
 "metadata": {
  "kernelspec": {
   "display_name": "R",
   "language": "R",
   "name": "ir"
  },
  "language_info": {
   "codemirror_mode": "r",
   "file_extension": ".r",
   "mimetype": "text/x-r-source",
   "name": "R",
   "pygments_lexer": "r",
   "version": "3.4.1"
  }
 },
 "nbformat": 4,
 "nbformat_minor": 2
}
