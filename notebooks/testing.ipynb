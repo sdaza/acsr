{
 "cells": [
  {
   "cell_type": "markdown",
   "metadata": {
    "vscode": {
     "languageId": "r"
    }
   },
   "source": [
    "# Packaging"
   ]
  },
  {
   "cell_type": "code",
   "execution_count": 5,
   "metadata": {
    "vscode": {
     "languageId": "r"
    }
   },
   "outputs": [
    {
     "name": "stdout",
     "output_type": "stream",
     "text": [
      "\u001b[36m--\u001b[39m \u001b[36mR CMD build\u001b[39m \u001b[36m-----------------------------------------------------------------\u001b[39m\n",
      "* checking for file '/Users/sdaza/Documents/git/acsr/DESCRIPTION' ... OK\n",
      "* preparing 'acsr':\n",
      "* checking DESCRIPTION meta-information ... OK\n",
      "* checking for LF line-endings in source and make files and shell scripts\n",
      "* checking for empty or unneeded directories\n",
      "Omitted 'LazyData' from DESCRIPTION\n",
      "* building 'acsr_0.3.tar.gz'\n",
      "\n"
     ]
    },
    {
     "data": {
      "text/html": [
       "'/Users/sdaza/Documents/git/acsr_0.3.tar.gz'"
      ],
      "text/latex": [
       "'/Users/sdaza/Documents/git/acsr\\_0.3.tar.gz'"
      ],
      "text/markdown": [
       "'/Users/sdaza/Documents/git/acsr_0.3.tar.gz'"
      ],
      "text/plain": [
       "[1] \"/Users/sdaza/Documents/git/acsr_0.3.tar.gz\""
      ]
     },
     "metadata": {},
     "output_type": "display_data"
    }
   ],
   "source": [
    "devtools::build()"
   ]
  },
  {
   "cell_type": "code",
   "execution_count": 7,
   "metadata": {
    "vscode": {
     "languageId": "r"
    }
   },
   "outputs": [
    {
     "name": "stdout",
     "output_type": "stream",
     "text": [
      "\n",
      "\u001b[36m--\u001b[39m \u001b[36mR CMD build\u001b[39m \u001b[36m-----------------------------------------------------------------\u001b[39m\n",
      "* checking for file '/Users/sdaza/Documents/git/acsr/DESCRIPTION' ... OK\n",
      "* preparing 'acsr':\n",
      "* checking DESCRIPTION meta-information ... OK\n",
      "* checking for LF line-endings in source and make files and shell scripts\n",
      "* checking for empty or unneeded directories\n",
      "Omitted 'LazyData' from DESCRIPTION\n",
      "* building 'acsr_0.3.tar.gz'\n",
      "\n",
      "Running /Library/Frameworks/R.framework/Resources/bin/R CMD INSTALL \\\n",
      "  /var/folders/0p/yg24kdcs09nd82wycq5n1gtc0000gn/T//RtmpOI526I/acsr_0.3.tar.gz \\\n",
      "  --install-tests \n",
      "* installing to library '/Library/Frameworks/R.framework/Versions/4.3-arm64/Resources/library'\n",
      "* installing *source* package 'acsr' ...\n",
      "** using staged installation\n",
      "** R\n",
      "** byte-compile and prepare package for lazy loading\n",
      "Warning message:\n",
      "package 'XML' was built under R version 4.3.3 \n",
      "** help\n",
      "*** installing help indices\n",
      "** building package indices\n",
      "** testing if installed package can be loaded from temporary location\n",
      "Warning: package 'XML' was built under R version 4.3.3\n",
      "** testing if installed package can be loaded from final location\n",
      "Warning: package 'XML' was built under R version 4.3.3\n",
      "** testing if installed package keeps a record of temporary installation path\n",
      "* DONE (acsr)\n"
     ]
    }
   ],
   "source": [
    "devtools::install()"
   ]
  },
  {
   "cell_type": "markdown",
   "metadata": {},
   "source": [
    "# Testing"
   ]
  },
  {
   "cell_type": "code",
   "execution_count": 1,
   "metadata": {
    "vscode": {
     "languageId": "r"
    }
   },
   "outputs": [
    {
     "name": "stderr",
     "output_type": "stream",
     "text": [
      "Loading required package: acs\n",
      "\n",
      "Loading required package: stringr\n",
      "\n",
      "Loading required package: stringr\n",
      "\n",
      "Loading required package: XML\n",
      "\n",
      "Warning message:\n",
      "\"package 'XML' was built under R version 4.3.3\"\n",
      "\n",
      "Attaching package: 'acs'\n",
      "\n",
      "\n",
      "The following object is masked from 'package:base':\n",
      "\n",
      "    apply\n",
      "\n",
      "\n",
      "Loading required package: data.table\n",
      "\n"
     ]
    }
   ],
   "source": [
    "library(acsr)"
   ]
  },
  {
   "cell_type": "code",
   "execution_count": 2,
   "metadata": {
    "vscode": {
     "languageId": "r"
    }
   },
   "outputs": [],
   "source": [
    "api.key.install(key=\"926983368457604ed165dc0d2618e58152397d22\")"
   ]
  },
  {
   "cell_type": "code",
   "execution_count": 3,
   "metadata": {
    "vscode": {
     "languageId": "r"
    }
   },
   "outputs": [],
   "source": [
    "f = fread('data/moe_FS_16.csv')"
   ]
  },
  {
   "cell_type": "markdown",
   "metadata": {
    "vscode": {
     "languageId": "r"
    }
   },
   "source": [
    "# sumacs"
   ]
  },
  {
   "cell_type": "code",
   "execution_count": 5,
   "metadata": {
    "vscode": {
     "languageId": "r"
    }
   },
   "outputs": [
    {
     "name": "stdout",
     "output_type": "stream",
     "text": [
      "[1] \"Extracting data from: acs 2016\"\n",
      "[1] \". . . . . .  ACS/Census variables : 117\"\n",
      "[1] \". . . . . .  Levels : 1\"\n",
      "[1] \". . . . . .  New variables : 32\"\n",
      "[1] \". . . . . .  Getting county subdivision data\"\n",
      "[1] \". . . . . .  Creating variables\"\n",
      "[1] \". . . . . .  3.1%\"\n",
      "[1] \". . . . . .  6.2%\"\n",
      "[1] \". . . . . .  9.4%\"\n",
      "[1] \". . . . . .  12.5%\"\n",
      "[1] \". . . . . .  15.6%\"\n",
      "[1] \". . . . . .  18.8%\"\n",
      "[1] \". . . . . .  21.9%\"\n",
      "[1] \". . . . . .  25%\"\n",
      "[1] \". . . . . .  28.1%\"\n",
      "[1] \". . . . . .  31.2%\"\n",
      "[1] \". . . . . .  34.4%\"\n",
      "[1] \". . . . . .  37.5%\"\n",
      "[1] \". . . . . .  40.6%\"\n",
      "[1] \". . . . . .  43.8%\"\n",
      "[1] \". . . . . .  46.9%\"\n",
      "[1] \". . . . . .  50%\"\n",
      "[1] \". . . . . .  53.1%\"\n",
      "[1] \". . . . . .  56.2%\"\n",
      "[1] \". . . . . .  59.4%\"\n",
      "[1] \". . . . . .  62.5%\"\n",
      "[1] \". . . . . .  65.6%\"\n",
      "[1] \". . . . . .  68.8%\"\n",
      "[1] \". . . . . .  71.9%\"\n",
      "[1] \". . . . . .  75%\"\n",
      "[1] \". . . . . .  78.1%\"\n",
      "[1] \". . . . . .  81.2%\"\n",
      "[1] \". . . . . .  84.4%\"\n",
      "[1] \". . . . . .  87.5%\"\n",
      "[1] \". . . . . .  90.6%\"\n",
      "[1] \". . . . . .  93.8%\"\n",
      "[1] \". . . . . .  96.9%\"\n",
      "[1] \". . . . . .  100%\"\n",
      "[1] \". . . . . .  Formatting output\"\n",
      "[1] \"Data exported to a CSV file! \"\n"
     ]
    }
   ],
   "source": [
    "out = sumacs(f$formula, varname=f$myfield, method=f$type,\n",
    "       level = 'county.subdivision', endyear=2016, \n",
    "            file = 'example.csv')"
   ]
  },
  {
   "cell_type": "markdown",
   "metadata": {},
   "source": [
    "# Additional examples"
   ]
  },
  {
   "cell_type": "markdown",
   "metadata": {},
   "source": [
    "## r95hhincper_1216"
   ]
  },
  {
   "cell_type": "code",
   "execution_count": 6,
   "metadata": {
    "vscode": {
     "languageId": "r"
    }
   },
   "outputs": [],
   "source": [
    "form1 = f[myfield=='r95hhincper_1216', formula]"
   ]
  },
  {
   "cell_type": "code",
   "execution_count": 7,
   "metadata": {
    "vscode": {
     "languageId": "r"
    }
   },
   "outputs": [
    {
     "name": "stdout",
     "output_type": "stream",
     "text": [
      "[1] \"Specify varname to get custom variable names!\"\n",
      "[1] \"Extracting data from: acs 2016\"\n",
      "[1] \". . . . . .  ACS/Census variables : 2\"\n",
      "[1] \". . . . . .  Levels : 1\"\n",
      "[1] \". . . . . .  New variables : 1\"\n",
      "[1] \". . . . . .  Getting county subdivision data\"\n",
      "[1] \". . . . . .  Creating variables\"\n",
      "[1] \". . . . . .  100%\"\n",
      "[1] \". . . . . .  Formatting output\"\n"
     ]
    },
    {
     "data": {
      "text/html": [
       "<table class=\"dataframe\">\n",
       "<caption>A data.table: 33 x 7</caption>\n",
       "<thead>\n",
       "\t<tr><th scope=col>sumlevel</th><th scope=col>geoid</th><th scope=col>st_fips</th><th scope=col>cnty_fips</th><th scope=col>cnty_sub_fips</th><th scope=col>var1_est</th><th scope=col>var1_moe</th></tr>\n",
       "\t<tr><th scope=col>&lt;chr&gt;</th><th scope=col>&lt;chr&gt;</th><th scope=col>&lt;int&gt;</th><th scope=col>&lt;int&gt;</th><th scope=col>&lt;chr&gt;</th><th scope=col>&lt;dbl&gt;</th><th scope=col>&lt;dbl&gt;</th></tr>\n",
       "</thead>\n",
       "<tbody>\n",
       "\t<tr><td>060</td><td>5510703600</td><td>55</td><td>107</td><td>03600</td><td>2.753247</td><td>0.4168868</td></tr>\n",
       "\t<tr><td>060</td><td>5510707175</td><td>55</td><td>107</td><td>07175</td><td>4.975144</td><td>       NA</td></tr>\n",
       "\t<tr><td>060</td><td>5510707225</td><td>55</td><td>107</td><td>07225</td><td>2.661049</td><td>0.9260508</td></tr>\n",
       "\t<tr><td>060</td><td>5510710500</td><td>55</td><td>107</td><td>10500</td><td>3.027862</td><td>1.6609478</td></tr>\n",
       "\t<tr><td>060</td><td>5510713550</td><td>55</td><td>107</td><td>13550</td><td>5.617241</td><td>2.2839156</td></tr>\n",
       "\t<tr><td>060</td><td>5510716775</td><td>55</td><td>107</td><td>16775</td><td>      NA</td><td>       NA</td></tr>\n",
       "\t<tr><td>060</td><td>5510720000</td><td>55</td><td>107</td><td>20000</td><td>3.576745</td><td>0.8717301</td></tr>\n",
       "\t<tr><td>060</td><td>5510726100</td><td>55</td><td>107</td><td>26100</td><td>2.704178</td><td>0.7558369</td></tr>\n",
       "\t<tr><td>060</td><td>5510729475</td><td>55</td><td>107</td><td>29475</td><td>2.331622</td><td>2.1512059</td></tr>\n",
       "\t<tr><td>060</td><td>5510730375</td><td>55</td><td>107</td><td>30375</td><td>2.721291</td><td>0.4832940</td></tr>\n",
       "\t<tr><td>060</td><td>5510731775</td><td>55</td><td>107</td><td>31775</td><td>3.010987</td><td>0.9264535</td></tr>\n",
       "\t<tr><td>060</td><td>5510733275</td><td>55</td><td>107</td><td>33275</td><td>3.129082</td><td>1.0275235</td></tr>\n",
       "\t<tr><td>060</td><td>5510733300</td><td>55</td><td>107</td><td>33300</td><td>2.331831</td><td>1.6906197</td></tr>\n",
       "\t<tr><td>060</td><td>5510736125</td><td>55</td><td>107</td><td>36125</td><td>2.835230</td><td>1.4338380</td></tr>\n",
       "\t<tr><td>060</td><td>5510736925</td><td>55</td><td>107</td><td>36925</td><td>2.751111</td><td>0.9554834</td></tr>\n",
       "\t<tr><td>060</td><td>5510740850</td><td>55</td><td>107</td><td>40850</td><td>3.169725</td><td>0.7219422</td></tr>\n",
       "\t<tr><td>060</td><td>5510742950</td><td>55</td><td>107</td><td>42950</td><td>3.007407</td><td>1.1287507</td></tr>\n",
       "\t<tr><td>060</td><td>5510749625</td><td>55</td><td>107</td><td>49625</td><td>2.929349</td><td>1.2214745</td></tr>\n",
       "\t<tr><td>060</td><td>5510755175</td><td>55</td><td>107</td><td>55175</td><td>2.827357</td><td>1.0089997</td></tr>\n",
       "\t<tr><td>060</td><td>5510767600</td><td>55</td><td>107</td><td>67600</td><td>2.604468</td><td>0.9993957</td></tr>\n",
       "\t<tr><td>060</td><td>5510770275</td><td>55</td><td>107</td><td>70275</td><td>4.278215</td><td>3.0224333</td></tr>\n",
       "\t<tr><td>060</td><td>5510773175</td><td>55</td><td>107</td><td>73175</td><td>3.382855</td><td>1.4392129</td></tr>\n",
       "\t<tr><td>060</td><td>5510774975</td><td>55</td><td>107</td><td>74975</td><td>2.225208</td><td>1.2064923</td></tr>\n",
       "\t<tr><td>060</td><td>5510777775</td><td>55</td><td>107</td><td>77775</td><td>3.190000</td><td>1.8592450</td></tr>\n",
       "\t<tr><td>060</td><td>5510777850</td><td>55</td><td>107</td><td>77850</td><td>2.603967</td><td>0.5614738</td></tr>\n",
       "\t<tr><td>060</td><td>5510779575</td><td>55</td><td>107</td><td>79575</td><td>2.579945</td><td>0.7091890</td></tr>\n",
       "\t<tr><td>060</td><td>5510780225</td><td>55</td><td>107</td><td>80225</td><td>3.285013</td><td>2.1283289</td></tr>\n",
       "\t<tr><td>060</td><td>5510780950</td><td>55</td><td>107</td><td>80950</td><td>2.567385</td><td>0.4943122</td></tr>\n",
       "\t<tr><td>060</td><td>5510783675</td><td>55</td><td>107</td><td>83675</td><td>3.386207</td><td>2.1602736</td></tr>\n",
       "\t<tr><td>060</td><td>5510786450</td><td>55</td><td>107</td><td>86450</td><td>4.216686</td><td>2.0893361</td></tr>\n",
       "\t<tr><td>060</td><td>5510787125</td><td>55</td><td>107</td><td>87125</td><td>1.478334</td><td>0.2154161</td></tr>\n",
       "\t<tr><td>060</td><td>5510787175</td><td>55</td><td>107</td><td>87175</td><td>2.770270</td><td>1.0173868</td></tr>\n",
       "\t<tr><td>060</td><td>5510787450</td><td>55</td><td>107</td><td>87450</td><td>5.469565</td><td>5.5940657</td></tr>\n",
       "</tbody>\n",
       "</table>\n"
      ],
      "text/latex": [
       "A data.table: 33 x 7\n",
       "\\begin{tabular}{lllllll}\n",
       " sumlevel & geoid & st\\_fips & cnty\\_fips & cnty\\_sub\\_fips & var1\\_est & var1\\_moe\\\\\n",
       " <chr> & <chr> & <int> & <int> & <chr> & <dbl> & <dbl>\\\\\n",
       "\\hline\n",
       "\t 060 & 5510703600 & 55 & 107 & 03600 & 2.753247 & 0.4168868\\\\\n",
       "\t 060 & 5510707175 & 55 & 107 & 07175 & 4.975144 &        NA\\\\\n",
       "\t 060 & 5510707225 & 55 & 107 & 07225 & 2.661049 & 0.9260508\\\\\n",
       "\t 060 & 5510710500 & 55 & 107 & 10500 & 3.027862 & 1.6609478\\\\\n",
       "\t 060 & 5510713550 & 55 & 107 & 13550 & 5.617241 & 2.2839156\\\\\n",
       "\t 060 & 5510716775 & 55 & 107 & 16775 &       NA &        NA\\\\\n",
       "\t 060 & 5510720000 & 55 & 107 & 20000 & 3.576745 & 0.8717301\\\\\n",
       "\t 060 & 5510726100 & 55 & 107 & 26100 & 2.704178 & 0.7558369\\\\\n",
       "\t 060 & 5510729475 & 55 & 107 & 29475 & 2.331622 & 2.1512059\\\\\n",
       "\t 060 & 5510730375 & 55 & 107 & 30375 & 2.721291 & 0.4832940\\\\\n",
       "\t 060 & 5510731775 & 55 & 107 & 31775 & 3.010987 & 0.9264535\\\\\n",
       "\t 060 & 5510733275 & 55 & 107 & 33275 & 3.129082 & 1.0275235\\\\\n",
       "\t 060 & 5510733300 & 55 & 107 & 33300 & 2.331831 & 1.6906197\\\\\n",
       "\t 060 & 5510736125 & 55 & 107 & 36125 & 2.835230 & 1.4338380\\\\\n",
       "\t 060 & 5510736925 & 55 & 107 & 36925 & 2.751111 & 0.9554834\\\\\n",
       "\t 060 & 5510740850 & 55 & 107 & 40850 & 3.169725 & 0.7219422\\\\\n",
       "\t 060 & 5510742950 & 55 & 107 & 42950 & 3.007407 & 1.1287507\\\\\n",
       "\t 060 & 5510749625 & 55 & 107 & 49625 & 2.929349 & 1.2214745\\\\\n",
       "\t 060 & 5510755175 & 55 & 107 & 55175 & 2.827357 & 1.0089997\\\\\n",
       "\t 060 & 5510767600 & 55 & 107 & 67600 & 2.604468 & 0.9993957\\\\\n",
       "\t 060 & 5510770275 & 55 & 107 & 70275 & 4.278215 & 3.0224333\\\\\n",
       "\t 060 & 5510773175 & 55 & 107 & 73175 & 3.382855 & 1.4392129\\\\\n",
       "\t 060 & 5510774975 & 55 & 107 & 74975 & 2.225208 & 1.2064923\\\\\n",
       "\t 060 & 5510777775 & 55 & 107 & 77775 & 3.190000 & 1.8592450\\\\\n",
       "\t 060 & 5510777850 & 55 & 107 & 77850 & 2.603967 & 0.5614738\\\\\n",
       "\t 060 & 5510779575 & 55 & 107 & 79575 & 2.579945 & 0.7091890\\\\\n",
       "\t 060 & 5510780225 & 55 & 107 & 80225 & 3.285013 & 2.1283289\\\\\n",
       "\t 060 & 5510780950 & 55 & 107 & 80950 & 2.567385 & 0.4943122\\\\\n",
       "\t 060 & 5510783675 & 55 & 107 & 83675 & 3.386207 & 2.1602736\\\\\n",
       "\t 060 & 5510786450 & 55 & 107 & 86450 & 4.216686 & 2.0893361\\\\\n",
       "\t 060 & 5510787125 & 55 & 107 & 87125 & 1.478334 & 0.2154161\\\\\n",
       "\t 060 & 5510787175 & 55 & 107 & 87175 & 2.770270 & 1.0173868\\\\\n",
       "\t 060 & 5510787450 & 55 & 107 & 87450 & 5.469565 & 5.5940657\\\\\n",
       "\\end{tabular}\n"
      ],
      "text/markdown": [
       "\n",
       "A data.table: 33 x 7\n",
       "\n",
       "| sumlevel &lt;chr&gt; | geoid &lt;chr&gt; | st_fips &lt;int&gt; | cnty_fips &lt;int&gt; | cnty_sub_fips &lt;chr&gt; | var1_est &lt;dbl&gt; | var1_moe &lt;dbl&gt; |\n",
       "|---|---|---|---|---|---|---|\n",
       "| 060 | 5510703600 | 55 | 107 | 03600 | 2.753247 | 0.4168868 |\n",
       "| 060 | 5510707175 | 55 | 107 | 07175 | 4.975144 |        NA |\n",
       "| 060 | 5510707225 | 55 | 107 | 07225 | 2.661049 | 0.9260508 |\n",
       "| 060 | 5510710500 | 55 | 107 | 10500 | 3.027862 | 1.6609478 |\n",
       "| 060 | 5510713550 | 55 | 107 | 13550 | 5.617241 | 2.2839156 |\n",
       "| 060 | 5510716775 | 55 | 107 | 16775 |       NA |        NA |\n",
       "| 060 | 5510720000 | 55 | 107 | 20000 | 3.576745 | 0.8717301 |\n",
       "| 060 | 5510726100 | 55 | 107 | 26100 | 2.704178 | 0.7558369 |\n",
       "| 060 | 5510729475 | 55 | 107 | 29475 | 2.331622 | 2.1512059 |\n",
       "| 060 | 5510730375 | 55 | 107 | 30375 | 2.721291 | 0.4832940 |\n",
       "| 060 | 5510731775 | 55 | 107 | 31775 | 3.010987 | 0.9264535 |\n",
       "| 060 | 5510733275 | 55 | 107 | 33275 | 3.129082 | 1.0275235 |\n",
       "| 060 | 5510733300 | 55 | 107 | 33300 | 2.331831 | 1.6906197 |\n",
       "| 060 | 5510736125 | 55 | 107 | 36125 | 2.835230 | 1.4338380 |\n",
       "| 060 | 5510736925 | 55 | 107 | 36925 | 2.751111 | 0.9554834 |\n",
       "| 060 | 5510740850 | 55 | 107 | 40850 | 3.169725 | 0.7219422 |\n",
       "| 060 | 5510742950 | 55 | 107 | 42950 | 3.007407 | 1.1287507 |\n",
       "| 060 | 5510749625 | 55 | 107 | 49625 | 2.929349 | 1.2214745 |\n",
       "| 060 | 5510755175 | 55 | 107 | 55175 | 2.827357 | 1.0089997 |\n",
       "| 060 | 5510767600 | 55 | 107 | 67600 | 2.604468 | 0.9993957 |\n",
       "| 060 | 5510770275 | 55 | 107 | 70275 | 4.278215 | 3.0224333 |\n",
       "| 060 | 5510773175 | 55 | 107 | 73175 | 3.382855 | 1.4392129 |\n",
       "| 060 | 5510774975 | 55 | 107 | 74975 | 2.225208 | 1.2064923 |\n",
       "| 060 | 5510777775 | 55 | 107 | 77775 | 3.190000 | 1.8592450 |\n",
       "| 060 | 5510777850 | 55 | 107 | 77850 | 2.603967 | 0.5614738 |\n",
       "| 060 | 5510779575 | 55 | 107 | 79575 | 2.579945 | 0.7091890 |\n",
       "| 060 | 5510780225 | 55 | 107 | 80225 | 3.285013 | 2.1283289 |\n",
       "| 060 | 5510780950 | 55 | 107 | 80950 | 2.567385 | 0.4943122 |\n",
       "| 060 | 5510783675 | 55 | 107 | 83675 | 3.386207 | 2.1602736 |\n",
       "| 060 | 5510786450 | 55 | 107 | 86450 | 4.216686 | 2.0893361 |\n",
       "| 060 | 5510787125 | 55 | 107 | 87125 | 1.478334 | 0.2154161 |\n",
       "| 060 | 5510787175 | 55 | 107 | 87175 | 2.770270 | 1.0173868 |\n",
       "| 060 | 5510787450 | 55 | 107 | 87450 | 5.469565 | 5.5940657 |\n",
       "\n"
      ],
      "text/plain": [
       "   sumlevel geoid      st_fips cnty_fips cnty_sub_fips var1_est var1_moe \n",
       "1  060      5510703600 55      107       03600         2.753247 0.4168868\n",
       "2  060      5510707175 55      107       07175         4.975144        NA\n",
       "3  060      5510707225 55      107       07225         2.661049 0.9260508\n",
       "4  060      5510710500 55      107       10500         3.027862 1.6609478\n",
       "5  060      5510713550 55      107       13550         5.617241 2.2839156\n",
       "6  060      5510716775 55      107       16775               NA        NA\n",
       "7  060      5510720000 55      107       20000         3.576745 0.8717301\n",
       "8  060      5510726100 55      107       26100         2.704178 0.7558369\n",
       "9  060      5510729475 55      107       29475         2.331622 2.1512059\n",
       "10 060      5510730375 55      107       30375         2.721291 0.4832940\n",
       "11 060      5510731775 55      107       31775         3.010987 0.9264535\n",
       "12 060      5510733275 55      107       33275         3.129082 1.0275235\n",
       "13 060      5510733300 55      107       33300         2.331831 1.6906197\n",
       "14 060      5510736125 55      107       36125         2.835230 1.4338380\n",
       "15 060      5510736925 55      107       36925         2.751111 0.9554834\n",
       "16 060      5510740850 55      107       40850         3.169725 0.7219422\n",
       "17 060      5510742950 55      107       42950         3.007407 1.1287507\n",
       "18 060      5510749625 55      107       49625         2.929349 1.2214745\n",
       "19 060      5510755175 55      107       55175         2.827357 1.0089997\n",
       "20 060      5510767600 55      107       67600         2.604468 0.9993957\n",
       "21 060      5510770275 55      107       70275         4.278215 3.0224333\n",
       "22 060      5510773175 55      107       73175         3.382855 1.4392129\n",
       "23 060      5510774975 55      107       74975         2.225208 1.2064923\n",
       "24 060      5510777775 55      107       77775         3.190000 1.8592450\n",
       "25 060      5510777850 55      107       77850         2.603967 0.5614738\n",
       "26 060      5510779575 55      107       79575         2.579945 0.7091890\n",
       "27 060      5510780225 55      107       80225         3.285013 2.1283289\n",
       "28 060      5510780950 55      107       80950         2.567385 0.4943122\n",
       "29 060      5510783675 55      107       83675         3.386207 2.1602736\n",
       "30 060      5510786450 55      107       86450         4.216686 2.0893361\n",
       "31 060      5510787125 55      107       87125         1.478334 0.2154161\n",
       "32 060      5510787175 55      107       87175         2.770270 1.0173868\n",
       "33 060      5510787450 55      107       87450         5.469565 5.5940657"
      ]
     },
     "metadata": {},
     "output_type": "display_data"
    }
   ],
   "source": [
    "sumacs(form1, level = 'county.subdivision', county='Rusk', \n",
    "       endyear=2016, method='ratio')"
   ]
  },
  {
   "cell_type": "markdown",
   "metadata": {},
   "source": [
    "## medrent1216"
   ]
  },
  {
   "cell_type": "code",
   "execution_count": 8,
   "metadata": {
    "vscode": {
     "languageId": "r"
    }
   },
   "outputs": [],
   "source": [
    "form2 = f[myfield=='medrent1216', formula] "
   ]
  },
  {
   "cell_type": "markdown",
   "metadata": {},
   "source": [
    "When you want to extract just one variable use the method variable or do not define a method (variable method is the default now)."
   ]
  },
  {
   "cell_type": "code",
   "execution_count": 9,
   "metadata": {
    "vscode": {
     "languageId": "r"
    }
   },
   "outputs": [
    {
     "name": "stdout",
     "output_type": "stream",
     "text": [
      "[1] \"Extracting data from: acs 2016\"\n",
      "[1] \". . . . . .  ACS/Census variables : 1\"\n",
      "[1] \". . . . . .  Levels : 1\"\n",
      "[1] \". . . . . .  New variables : 1\"\n",
      "[1] \". . . . . .  Getting county subdivision data\"\n",
      "[1] \". . . . . .  Creating variables\"\n",
      "[1] \". . . . . .  100%\"\n",
      "[1] \". . . . . .  Formatting output\"\n"
     ]
    },
    {
     "data": {
      "text/html": [
       "<table class=\"dataframe\">\n",
       "<caption>A data.table: 33 x 7</caption>\n",
       "<thead>\n",
       "\t<tr><th scope=col>sumlevel</th><th scope=col>geoid</th><th scope=col>st_fips</th><th scope=col>cnty_fips</th><th scope=col>cnty_sub_fips</th><th scope=col>b25064_001_est</th><th scope=col>b25064_001_moe</th></tr>\n",
       "\t<tr><th scope=col>&lt;chr&gt;</th><th scope=col>&lt;chr&gt;</th><th scope=col>&lt;int&gt;</th><th scope=col>&lt;int&gt;</th><th scope=col>&lt;chr&gt;</th><th scope=col>&lt;dbl&gt;</th><th scope=col>&lt;dbl&gt;</th></tr>\n",
       "</thead>\n",
       "<tbody>\n",
       "\t<tr><td>060</td><td>5510703600</td><td>55</td><td>107</td><td>03600</td><td> 925</td><td>408</td></tr>\n",
       "\t<tr><td>060</td><td>5510707175</td><td>55</td><td>107</td><td>07175</td><td> 821</td><td>210</td></tr>\n",
       "\t<tr><td>060</td><td>5510707225</td><td>55</td><td>107</td><td>07225</td><td>  NA</td><td> NA</td></tr>\n",
       "\t<tr><td>060</td><td>5510710500</td><td>55</td><td>107</td><td>10500</td><td> 472</td><td> 36</td></tr>\n",
       "\t<tr><td>060</td><td>5510713550</td><td>55</td><td>107</td><td>13550</td><td>  NA</td><td> NA</td></tr>\n",
       "\t<tr><td>060</td><td>5510716775</td><td>55</td><td>107</td><td>16775</td><td> 584</td><td>134</td></tr>\n",
       "\t<tr><td>060</td><td>5510720000</td><td>55</td><td>107</td><td>20000</td><td> 700</td><td>150</td></tr>\n",
       "\t<tr><td>060</td><td>5510726100</td><td>55</td><td>107</td><td>26100</td><td> 758</td><td>117</td></tr>\n",
       "\t<tr><td>060</td><td>5510729475</td><td>55</td><td>107</td><td>29475</td><td> 392</td><td>351</td></tr>\n",
       "\t<tr><td>060</td><td>5510730375</td><td>55</td><td>107</td><td>30375</td><td> 717</td><td> 48</td></tr>\n",
       "\t<tr><td>060</td><td>5510731775</td><td>55</td><td>107</td><td>31775</td><td> 775</td><td>207</td></tr>\n",
       "\t<tr><td>060</td><td>5510733275</td><td>55</td><td>107</td><td>33275</td><td> 678</td><td> 70</td></tr>\n",
       "\t<tr><td>060</td><td>5510733300</td><td>55</td><td>107</td><td>33300</td><td>  NA</td><td> NA</td></tr>\n",
       "\t<tr><td>060</td><td>5510736125</td><td>55</td><td>107</td><td>36125</td><td> 950</td><td>388</td></tr>\n",
       "\t<tr><td>060</td><td>5510736925</td><td>55</td><td>107</td><td>36925</td><td>  NA</td><td> NA</td></tr>\n",
       "\t<tr><td>060</td><td>5510740850</td><td>55</td><td>107</td><td>40850</td><td> 582</td><td>107</td></tr>\n",
       "\t<tr><td>060</td><td>5510742950</td><td>55</td><td>107</td><td>42950</td><td> 642</td><td>123</td></tr>\n",
       "\t<tr><td>060</td><td>5510749625</td><td>55</td><td>107</td><td>49625</td><td> 750</td><td>170</td></tr>\n",
       "\t<tr><td>060</td><td>5510755175</td><td>55</td><td>107</td><td>55175</td><td> 810</td><td>566</td></tr>\n",
       "\t<tr><td>060</td><td>5510767600</td><td>55</td><td>107</td><td>67600</td><td> 675</td><td>211</td></tr>\n",
       "\t<tr><td>060</td><td>5510770275</td><td>55</td><td>107</td><td>70275</td><td>1013</td><td>289</td></tr>\n",
       "\t<tr><td>060</td><td>5510773175</td><td>55</td><td>107</td><td>73175</td><td> 713</td><td>565</td></tr>\n",
       "\t<tr><td>060</td><td>5510774975</td><td>55</td><td>107</td><td>74975</td><td>  NA</td><td> NA</td></tr>\n",
       "\t<tr><td>060</td><td>5510777775</td><td>55</td><td>107</td><td>77775</td><td> 775</td><td>354</td></tr>\n",
       "\t<tr><td>060</td><td>5510777850</td><td>55</td><td>107</td><td>77850</td><td> 579</td><td> 15</td></tr>\n",
       "\t<tr><td>060</td><td>5510779575</td><td>55</td><td>107</td><td>79575</td><td> 850</td><td>327</td></tr>\n",
       "\t<tr><td>060</td><td>5510780225</td><td>55</td><td>107</td><td>80225</td><td> 950</td><td>172</td></tr>\n",
       "\t<tr><td>060</td><td>5510780950</td><td>55</td><td>107</td><td>80950</td><td>  NA</td><td> NA</td></tr>\n",
       "\t<tr><td>060</td><td>5510783675</td><td>55</td><td>107</td><td>83675</td><td> 675</td><td>407</td></tr>\n",
       "\t<tr><td>060</td><td>5510786450</td><td>55</td><td>107</td><td>86450</td><td> 567</td><td>314</td></tr>\n",
       "\t<tr><td>060</td><td>5510787125</td><td>55</td><td>107</td><td>87125</td><td>  NA</td><td> NA</td></tr>\n",
       "\t<tr><td>060</td><td>5510787175</td><td>55</td><td>107</td><td>87175</td><td> 870</td><td> 60</td></tr>\n",
       "\t<tr><td>060</td><td>5510787450</td><td>55</td><td>107</td><td>87450</td><td>  NA</td><td> NA</td></tr>\n",
       "</tbody>\n",
       "</table>\n"
      ],
      "text/latex": [
       "A data.table: 33 x 7\n",
       "\\begin{tabular}{lllllll}\n",
       " sumlevel & geoid & st\\_fips & cnty\\_fips & cnty\\_sub\\_fips & b25064\\_001\\_est & b25064\\_001\\_moe\\\\\n",
       " <chr> & <chr> & <int> & <int> & <chr> & <dbl> & <dbl>\\\\\n",
       "\\hline\n",
       "\t 060 & 5510703600 & 55 & 107 & 03600 &  925 & 408\\\\\n",
       "\t 060 & 5510707175 & 55 & 107 & 07175 &  821 & 210\\\\\n",
       "\t 060 & 5510707225 & 55 & 107 & 07225 &   NA &  NA\\\\\n",
       "\t 060 & 5510710500 & 55 & 107 & 10500 &  472 &  36\\\\\n",
       "\t 060 & 5510713550 & 55 & 107 & 13550 &   NA &  NA\\\\\n",
       "\t 060 & 5510716775 & 55 & 107 & 16775 &  584 & 134\\\\\n",
       "\t 060 & 5510720000 & 55 & 107 & 20000 &  700 & 150\\\\\n",
       "\t 060 & 5510726100 & 55 & 107 & 26100 &  758 & 117\\\\\n",
       "\t 060 & 5510729475 & 55 & 107 & 29475 &  392 & 351\\\\\n",
       "\t 060 & 5510730375 & 55 & 107 & 30375 &  717 &  48\\\\\n",
       "\t 060 & 5510731775 & 55 & 107 & 31775 &  775 & 207\\\\\n",
       "\t 060 & 5510733275 & 55 & 107 & 33275 &  678 &  70\\\\\n",
       "\t 060 & 5510733300 & 55 & 107 & 33300 &   NA &  NA\\\\\n",
       "\t 060 & 5510736125 & 55 & 107 & 36125 &  950 & 388\\\\\n",
       "\t 060 & 5510736925 & 55 & 107 & 36925 &   NA &  NA\\\\\n",
       "\t 060 & 5510740850 & 55 & 107 & 40850 &  582 & 107\\\\\n",
       "\t 060 & 5510742950 & 55 & 107 & 42950 &  642 & 123\\\\\n",
       "\t 060 & 5510749625 & 55 & 107 & 49625 &  750 & 170\\\\\n",
       "\t 060 & 5510755175 & 55 & 107 & 55175 &  810 & 566\\\\\n",
       "\t 060 & 5510767600 & 55 & 107 & 67600 &  675 & 211\\\\\n",
       "\t 060 & 5510770275 & 55 & 107 & 70275 & 1013 & 289\\\\\n",
       "\t 060 & 5510773175 & 55 & 107 & 73175 &  713 & 565\\\\\n",
       "\t 060 & 5510774975 & 55 & 107 & 74975 &   NA &  NA\\\\\n",
       "\t 060 & 5510777775 & 55 & 107 & 77775 &  775 & 354\\\\\n",
       "\t 060 & 5510777850 & 55 & 107 & 77850 &  579 &  15\\\\\n",
       "\t 060 & 5510779575 & 55 & 107 & 79575 &  850 & 327\\\\\n",
       "\t 060 & 5510780225 & 55 & 107 & 80225 &  950 & 172\\\\\n",
       "\t 060 & 5510780950 & 55 & 107 & 80950 &   NA &  NA\\\\\n",
       "\t 060 & 5510783675 & 55 & 107 & 83675 &  675 & 407\\\\\n",
       "\t 060 & 5510786450 & 55 & 107 & 86450 &  567 & 314\\\\\n",
       "\t 060 & 5510787125 & 55 & 107 & 87125 &   NA &  NA\\\\\n",
       "\t 060 & 5510787175 & 55 & 107 & 87175 &  870 &  60\\\\\n",
       "\t 060 & 5510787450 & 55 & 107 & 87450 &   NA &  NA\\\\\n",
       "\\end{tabular}\n"
      ],
      "text/markdown": [
       "\n",
       "A data.table: 33 x 7\n",
       "\n",
       "| sumlevel &lt;chr&gt; | geoid &lt;chr&gt; | st_fips &lt;int&gt; | cnty_fips &lt;int&gt; | cnty_sub_fips &lt;chr&gt; | b25064_001_est &lt;dbl&gt; | b25064_001_moe &lt;dbl&gt; |\n",
       "|---|---|---|---|---|---|---|\n",
       "| 060 | 5510703600 | 55 | 107 | 03600 |  925 | 408 |\n",
       "| 060 | 5510707175 | 55 | 107 | 07175 |  821 | 210 |\n",
       "| 060 | 5510707225 | 55 | 107 | 07225 |   NA |  NA |\n",
       "| 060 | 5510710500 | 55 | 107 | 10500 |  472 |  36 |\n",
       "| 060 | 5510713550 | 55 | 107 | 13550 |   NA |  NA |\n",
       "| 060 | 5510716775 | 55 | 107 | 16775 |  584 | 134 |\n",
       "| 060 | 5510720000 | 55 | 107 | 20000 |  700 | 150 |\n",
       "| 060 | 5510726100 | 55 | 107 | 26100 |  758 | 117 |\n",
       "| 060 | 5510729475 | 55 | 107 | 29475 |  392 | 351 |\n",
       "| 060 | 5510730375 | 55 | 107 | 30375 |  717 |  48 |\n",
       "| 060 | 5510731775 | 55 | 107 | 31775 |  775 | 207 |\n",
       "| 060 | 5510733275 | 55 | 107 | 33275 |  678 |  70 |\n",
       "| 060 | 5510733300 | 55 | 107 | 33300 |   NA |  NA |\n",
       "| 060 | 5510736125 | 55 | 107 | 36125 |  950 | 388 |\n",
       "| 060 | 5510736925 | 55 | 107 | 36925 |   NA |  NA |\n",
       "| 060 | 5510740850 | 55 | 107 | 40850 |  582 | 107 |\n",
       "| 060 | 5510742950 | 55 | 107 | 42950 |  642 | 123 |\n",
       "| 060 | 5510749625 | 55 | 107 | 49625 |  750 | 170 |\n",
       "| 060 | 5510755175 | 55 | 107 | 55175 |  810 | 566 |\n",
       "| 060 | 5510767600 | 55 | 107 | 67600 |  675 | 211 |\n",
       "| 060 | 5510770275 | 55 | 107 | 70275 | 1013 | 289 |\n",
       "| 060 | 5510773175 | 55 | 107 | 73175 |  713 | 565 |\n",
       "| 060 | 5510774975 | 55 | 107 | 74975 |   NA |  NA |\n",
       "| 060 | 5510777775 | 55 | 107 | 77775 |  775 | 354 |\n",
       "| 060 | 5510777850 | 55 | 107 | 77850 |  579 |  15 |\n",
       "| 060 | 5510779575 | 55 | 107 | 79575 |  850 | 327 |\n",
       "| 060 | 5510780225 | 55 | 107 | 80225 |  950 | 172 |\n",
       "| 060 | 5510780950 | 55 | 107 | 80950 |   NA |  NA |\n",
       "| 060 | 5510783675 | 55 | 107 | 83675 |  675 | 407 |\n",
       "| 060 | 5510786450 | 55 | 107 | 86450 |  567 | 314 |\n",
       "| 060 | 5510787125 | 55 | 107 | 87125 |   NA |  NA |\n",
       "| 060 | 5510787175 | 55 | 107 | 87175 |  870 |  60 |\n",
       "| 060 | 5510787450 | 55 | 107 | 87450 |   NA |  NA |\n",
       "\n"
      ],
      "text/plain": [
       "   sumlevel geoid      st_fips cnty_fips cnty_sub_fips b25064_001_est\n",
       "1  060      5510703600 55      107       03600          925          \n",
       "2  060      5510707175 55      107       07175          821          \n",
       "3  060      5510707225 55      107       07225           NA          \n",
       "4  060      5510710500 55      107       10500          472          \n",
       "5  060      5510713550 55      107       13550           NA          \n",
       "6  060      5510716775 55      107       16775          584          \n",
       "7  060      5510720000 55      107       20000          700          \n",
       "8  060      5510726100 55      107       26100          758          \n",
       "9  060      5510729475 55      107       29475          392          \n",
       "10 060      5510730375 55      107       30375          717          \n",
       "11 060      5510731775 55      107       31775          775          \n",
       "12 060      5510733275 55      107       33275          678          \n",
       "13 060      5510733300 55      107       33300           NA          \n",
       "14 060      5510736125 55      107       36125          950          \n",
       "15 060      5510736925 55      107       36925           NA          \n",
       "16 060      5510740850 55      107       40850          582          \n",
       "17 060      5510742950 55      107       42950          642          \n",
       "18 060      5510749625 55      107       49625          750          \n",
       "19 060      5510755175 55      107       55175          810          \n",
       "20 060      5510767600 55      107       67600          675          \n",
       "21 060      5510770275 55      107       70275         1013          \n",
       "22 060      5510773175 55      107       73175          713          \n",
       "23 060      5510774975 55      107       74975           NA          \n",
       "24 060      5510777775 55      107       77775          775          \n",
       "25 060      5510777850 55      107       77850          579          \n",
       "26 060      5510779575 55      107       79575          850          \n",
       "27 060      5510780225 55      107       80225          950          \n",
       "28 060      5510780950 55      107       80950           NA          \n",
       "29 060      5510783675 55      107       83675          675          \n",
       "30 060      5510786450 55      107       86450          567          \n",
       "31 060      5510787125 55      107       87125           NA          \n",
       "32 060      5510787175 55      107       87175          870          \n",
       "33 060      5510787450 55      107       87450           NA          \n",
       "   b25064_001_moe\n",
       "1  408           \n",
       "2  210           \n",
       "3   NA           \n",
       "4   36           \n",
       "5   NA           \n",
       "6  134           \n",
       "7  150           \n",
       "8  117           \n",
       "9  351           \n",
       "10  48           \n",
       "11 207           \n",
       "12  70           \n",
       "13  NA           \n",
       "14 388           \n",
       "15  NA           \n",
       "16 107           \n",
       "17 123           \n",
       "18 170           \n",
       "19 566           \n",
       "20 211           \n",
       "21 289           \n",
       "22 565           \n",
       "23  NA           \n",
       "24 354           \n",
       "25  15           \n",
       "26 327           \n",
       "27 172           \n",
       "28  NA           \n",
       "29 407           \n",
       "30 314           \n",
       "31  NA           \n",
       "32  60           \n",
       "33  NA           "
      ]
     },
     "metadata": {},
     "output_type": "display_data"
    }
   ],
   "source": [
    "sumacs(form2, level = 'county.subdivision', county='Rusk', endyear=2016)"
   ]
  },
  {
   "cell_type": "markdown",
   "metadata": {},
   "source": [
    "## Direct API"
   ]
  },
  {
   "cell_type": "markdown",
   "metadata": {},
   "source": [
    "Using API directly:"
   ]
  },
  {
   "cell_type": "code",
   "execution_count": 10,
   "metadata": {
    "vscode": {
     "languageId": "r"
    }
   },
   "outputs": [
    {
     "ename": "ERROR",
     "evalue": "Error in parse(text = x, srcfile = src): <text>:1:7: unexpected '/'\n1: https:/\n          ^\n",
     "output_type": "error",
     "traceback": [
      "Error in parse(text = x, srcfile = src): <text>:1:7: unexpected '/'\n1: https:/\n          ^\nTraceback:\n"
     ]
    }
   ],
   "source": [
    "https://api.census.gov/data/2016/acs/acs5?get=NAME,B19080_005E&for=county%20subdivision:*&in=state:55%20county:107&key=926983368457604ed165dc0d2618e58152397d22\n",
    "\n",
    "[[\"NAME\",\"B19080_005E\",\"state\",\"county\",\"county subdivision\"],\n",
    "[\"Atlanta town, Rusk County, Wisconsin\",\"132500\",\"55\",\"107\",\"03600\"],\n",
    "[\"Big Bend town, Rusk County, Wisconsin\",\"250001\",\"55\",\"107\",\"07175\"],\n",
    "[\"Big Falls town, Rusk County, Wisconsin\",\"128063\",\"55\",\"107\",\"07225\"],\n",
    "[\"Bruce village, Rusk County, Wisconsin\",\"86179\",\"55\",\"107\",\"10500\"],\n",
    "[\"Cedar Rapids town, Rusk County, Wisconsin\",\"203625\",\"55\",\"107\",\"13550\"],\n",
    "[\"Conrath village, Rusk County, Wisconsin\",\"-666666666\",\"55\",\"107\",\"16775\"],\n",
    "[\"Dewey town, Rusk County, Wisconsin\",\"168107\",\"55\",\"107\",\"20000\"],\n",
    "[\"Flambeau town, Rusk County, Wisconsin\",\"136104\",\"55\",\"107\",\"26100\"],\n",
    "[\"Glen Flora village, Rusk County, Wisconsin\",\"101281\",\"55\",\"107\",\"29475\"],\n",
    "[\"Grant town, Rusk County, Wisconsin\",\"111875\",\"55\",\"107\",\"30375\"],\n",
    "[\"Grow town, Rusk County, Wisconsin\",\"136750\",\"55\",\"107\",\"31775\"],\n",
    "[\"Hawkins village, Rusk County, Wisconsin\",\"103000\",\"55\",\"107\",\"33275\"],\n",
    "[\"Hawkins town, Rusk County, Wisconsin\",\"92625\",\"55\",\"107\",\"33300\"],\n",
    "[\"Hubbard town, Rusk County, Wisconsin\",\"93917\",\"55\",\"107\",\"36125\"],\n",
    "[\"Ingram village, Rusk County, Wisconsin\",\"112625\",\"55\",\"107\",\"36925\"],\n",
    "[\"Ladysmith city, Rusk County, Wisconsin\",\"112633\",\"55\",\"107\",\"40850\"],\n",
    "[\"Lawrence town, Rusk County, Wisconsin\",\"101500\",\"55\",\"107\",\"42950\"],\n",
    "[\"Marshall town, Rusk County, Wisconsin\",\"126750\",\"55\",\"107\",\"49625\"],\n",
    "[\"Murry town, Rusk County, Wisconsin\",\"100063\",\"55\",\"107\",\"55175\"],\n",
    "[\"Richland town, Rusk County, Wisconsin\",\"133479\",\"55\",\"107\",\"67600\"],\n",
    "[\"Rusk town, Rusk County, Wisconsin\",\"208563\",\"55\",\"107\",\"70275\"],\n",
    "[\"Sheldon village, Rusk County, Wisconsin\",\"114875\",\"55\",\"107\",\"73175\"],\n",
    "[\"South Fork town, Rusk County, Wisconsin\",\"71625\",\"55\",\"107\",\"74975\"],\n",
    "[\"Strickland town, Rusk County, Wisconsin\",\"119625\",\"55\",\"107\",\"77775\"],\n",
    "[\"Stubbs town, Rusk County, Wisconsin\",\"138104\",\"55\",\"107\",\"77850\"],\n",
    "[\"Thornapple town, Rusk County, Wisconsin\",\"116500\",\"55\",\"107\",\"79575\"],\n",
    "[\"Tony village, Rusk County, Wisconsin\",\"123188\",\"55\",\"107\",\"80225\"],\n",
    "[\"True town, Rusk County, Wisconsin\",\"129083\",\"55\",\"107\",\"80950\"],\n",
    "[\"Washington town, Rusk County, Wisconsin\",\"122750\",\"55\",\"107\",\"83675\"],\n",
    "[\"Weyerhaeuser village, Rusk County, Wisconsin\",\"110688\",\"55\",\"107\",\"86450\"],\n",
    "[\"Wilkinson town, Rusk County, Wisconsin\",\"75500\",\"55\",\"107\",\"87125\"],\n",
    "[\"Willard town, Rusk County, Wisconsin\",\"128125\",\"55\",\"107\",\"87175\"],\n",
    "[\"Wilson town, Rusk County, Wisconsin\",\"157250\",\"55\",\"107\",\"87450\"]]"
   ]
  }
 ],
 "metadata": {
  "kernelspec": {
   "display_name": "R",
   "language": "R",
   "name": "ir"
  },
  "language_info": {
   "codemirror_mode": "r",
   "file_extension": ".r",
   "mimetype": "text/x-r-source",
   "name": "R",
   "pygments_lexer": "r",
   "version": "4.3.2"
  }
 },
 "nbformat": 4,
 "nbformat_minor": 2
}
