{
 "cells": [
  {
   "cell_type": "markdown",
   "metadata": {},
   "source": [
    "# Testing"
   ]
  },
  {
   "cell_type": "code",
   "execution_count": 57,
   "metadata": {},
   "outputs": [],
   "source": [
    "library(acsr)"
   ]
  },
  {
   "cell_type": "code",
   "execution_count": 58,
   "metadata": {},
   "outputs": [],
   "source": [
    "f = fread('data/moe_FS_16.csv')"
   ]
  },
  {
   "cell_type": "code",
   "execution_count": 59,
   "metadata": {},
   "outputs": [
    {
     "data": {
      "text/html": [
       "<table>\n",
       "<thead><tr><th scope=col>Destination</th><th scope=col>myfield</th><th scope=col>type</th><th scope=col>formula</th></tr></thead>\n",
       "<tbody>\n",
       "\t<tr><td>Food_Sec               </td><td>r95hhincper_1216       </td><td>Ratio                  </td><td>(b19080_005/b19013_001)</td></tr>\n",
       "</tbody>\n",
       "</table>\n"
      ],
      "text/latex": [
       "\\begin{tabular}{r|llll}\n",
       " Destination & myfield & type & formula\\\\\n",
       "\\hline\n",
       "\t Food\\_Sec                  & r95hhincper\\_1216          & Ratio                       & (b19080\\_005/b19013\\_001)\\\\\n",
       "\\end{tabular}\n"
      ],
      "text/markdown": [
       "\n",
       "Destination | myfield | type | formula | \n",
       "|---|\n",
       "| Food_Sec                | r95hhincper_1216        | Ratio                   | (b19080_005/b19013_001) | \n",
       "\n",
       "\n"
      ],
      "text/plain": [
       "  Destination myfield          type  formula                \n",
       "1 Food_Sec    r95hhincper_1216 Ratio (b19080_005/b19013_001)"
      ]
     },
     "metadata": {},
     "output_type": "display_data"
    }
   ],
   "source": [
    "f[myfield=='r95hhincper_1216'] # r95hhincper_1216"
   ]
  },
  {
   "cell_type": "code",
   "execution_count": 60,
   "metadata": {},
   "outputs": [],
   "source": [
    "vars = getvars(f[myfield=='r95hhincper_1216', formula])"
   ]
  },
  {
   "cell_type": "code",
   "execution_count": 61,
   "metadata": {},
   "outputs": [
    {
     "name": "stdout",
     "output_type": "stream",
     "text": [
      "[1] \". . . . . .  Getting county subdivision data\"\n"
     ]
    },
    {
     "data": {
      "text/plain": [
       "$county.subdivision\n",
       "ACS DATA: \n",
       " 2011 -- 2015 ;\n",
       "  Estimates w/90% confidence intervals;\n",
       "  for different intervals, see confint()\n",
       "                                             B19080_005        B19013_001     \n",
       "Atlanta town, Rusk County, Wisconsin         132450 +/- 22134  48281 +/- 3679 \n",
       "Big Bend town, Rusk County, Wisconsin        223375 +/- 177315 50435 +/- 3750 \n",
       "Big Falls town, Rusk County, Wisconsin       105292 +/- 22830  49583 +/- 13730\n",
       "Bruce village, Rusk County, Wisconsin        85500 +/- 32561   26324 +/- 3630 \n",
       "Cedar Rapids town, Rusk County, Wisconsin    NA +/- NA         37500 +/- 26879\n",
       "Conrath village, Rusk County, Wisconsin      NA +/- NA         23750 +/- 20071\n",
       "Dewey town, Rusk County, Wisconsin           147375 +/- 48239  42667 +/- 6350 \n",
       "Flambeau town, Rusk County, Wisconsin        122458 +/- 32346  49153 +/- 4354 \n",
       "Glen Flora village, Rusk County, Wisconsin   140125 +/- 126179 NA +/- NA      \n",
       "Grant town, Rusk County, Wisconsin           108500 +/- 16546  42308 +/- 5791 \n",
       "Grow town, Rusk County, Wisconsin            169750 +/- 86509  46071 +/- 5667 \n",
       "Hawkins village, Rusk County, Wisconsin      120813 +/- 33535  34375 +/- 6268 \n",
       "Hawkins town, Rusk County, Wisconsin         NA +/- NA         37273 +/- 4822 \n",
       "Hubbard town, Rusk County, Wisconsin         92000 +/- 30748   34375 +/- 13562\n",
       "Ingram village, Rusk County, Wisconsin       110438 +/- 25661  40750 +/- 7180 \n",
       "Ladysmith city, Rusk County, Wisconsin       111257 +/- 49128  35606 +/- 3608 \n",
       "Lawrence town, Rusk County, Wisconsin        99200 +/- 9250    33333 +/- 10290\n",
       "Marshall town, Rusk County, Wisconsin        153375 +/- 77790  38500 +/- 7482 \n",
       "Murry town, Rusk County, Wisconsin           100125 +/- 26081  35179 +/- 4931 \n",
       "Richland town, Rusk County, Wisconsin        116313 +/- 40870  43750 +/- 16878\n",
       "Rusk town, Rusk County, Wisconsin            180325 +/- 77042  45781 +/- 7807 \n",
       "Sheldon village, Rusk County, Wisconsin      95500 +/- 46892   27083 +/- 12740\n",
       "South Fork town, Rusk County, Wisconsin      86125 +/- 42149   32188 +/- 8868 \n",
       "Strickland town, Rusk County, Wisconsin      115531 +/- 10738  38750 +/- 4910 \n",
       "Stubbs town, Rusk County, Wisconsin          135250 +/- 12645  50000 +/- 8561 \n",
       "Thornapple town, Rusk County, Wisconsin      116643 +/- 14920  45781 +/- 5223 \n",
       "Tony village, Rusk County, Wisconsin         120292 +/- 51169  36058 +/- 2759 \n",
       "True town, Rusk County, Wisconsin            127156 +/- 8994   50156 +/- 14991\n",
       "Washington town, Rusk County, Wisconsin      124625 +/- 46747  34375 +/- 10060\n",
       "Weyerhaeuser village, Rusk County, Wisconsin 110900 +/- 35676  26750 +/- 9897 \n",
       "Wilkinson town, Rusk County, Wisconsin       NA +/- NA         51250 +/- 15178\n",
       "Willard town, Rusk County, Wisconsin         136500 +/- 48076  42857 +/- 10933\n",
       "Wilson town, Rusk County, Wisconsin          NA +/- NA         35000 +/- 14553\n"
      ]
     },
     "metadata": {},
     "output_type": "display_data"
    }
   ],
   "source": [
    "acsdata(vars, level = 'county.subdivision', county='Rusk', endyear=2015)"
   ]
  },
  {
   "cell_type": "code",
   "execution_count": 63,
   "metadata": {},
   "outputs": [
    {
     "name": "stdout",
     "output_type": "stream",
     "text": [
      "[1] \". . . . . .  Getting county subdivision data\"\n"
     ]
    },
    {
     "data": {
      "text/plain": [
       "$county.subdivision\n",
       "ACS DATA: \n",
       " 2012 -- 2016 ;\n",
       "  Estimates w/90% confidence intervals;\n",
       "  for different intervals, see confint()\n",
       "                                             B19080_005               \n",
       "Atlanta town, Rusk County, Wisconsin         132500 +/- 17212         \n",
       "Big Bend town, Rusk County, Wisconsin        250001 +/- -333333333    \n",
       "Big Falls town, Rusk County, Wisconsin       128063 +/- 39418         \n",
       "Bruce village, Rusk County, Wisconsin        86179 +/- 45121          \n",
       "Cedar Rapids town, Rusk County, Wisconsin    203625 +/- 66553         \n",
       "Conrath village, Rusk County, Wisconsin      -666666666 +/- -222222222\n",
       "Dewey town, Rusk County, Wisconsin           168107 +/- 31223         \n",
       "Flambeau town, Rusk County, Wisconsin        136104 +/- 36495         \n",
       "Glen Flora village, Rusk County, Wisconsin   101281 +/- 12285         \n",
       "Grant town, Rusk County, Wisconsin           111875 +/- 13497         \n",
       "Grow town, Rusk County, Wisconsin            136750 +/- 39566         \n",
       "Hawkins village, Rusk County, Wisconsin      103000 +/- 26069         \n",
       "Hawkins town, Rusk County, Wisconsin         92625 +/- 66085          \n",
       "Hubbard town, Rusk County, Wisconsin         93917 +/- 7318           \n",
       "Ingram village, Rusk County, Wisconsin       112625 +/- 28532         \n",
       "Ladysmith city, Rusk County, Wisconsin       112633 +/- 22380         \n",
       "Lawrence town, Rusk County, Wisconsin        101500 +/- 12403         \n",
       "Marshall town, Rusk County, Wisconsin        126750 +/- 51268         \n",
       "Murry town, Rusk County, Wisconsin           100063 +/- 32587         \n",
       "Richland town, Rusk County, Wisconsin        133479 +/- 34213         \n",
       "Rusk town, Rusk County, Wisconsin            208563 +/- 141464        \n",
       "Sheldon village, Rusk County, Wisconsin      114875 +/- 31842         \n",
       "South Fork town, Rusk County, Wisconsin      71625 +/- 35520          \n",
       "Strickland town, Rusk County, Wisconsin      119625 +/- 29490         \n",
       "Stubbs town, Rusk County, Wisconsin          138104 +/- 11391         \n",
       "Thornapple town, Rusk County, Wisconsin      116500 +/- 30362         \n",
       "Tony village, Rusk County, Wisconsin         123188 +/- 56700         \n",
       "True town, Rusk County, Wisconsin            129083 +/- 14294         \n",
       "Washington town, Rusk County, Wisconsin      122750 +/- 67612         \n",
       "Weyerhaeuser village, Rusk County, Wisconsin 110688 +/- 48910         \n",
       "Wilkinson town, Rusk County, Wisconsin       75500 +/- 9793           \n",
       "Willard town, Rusk County, Wisconsin         128125 +/- 41049         \n",
       "Wilson town, Rusk County, Wisconsin          157250 +/- 124372        \n",
       "                                             B19013_001     \n",
       "Atlanta town, Rusk County, Wisconsin         48125 +/- 3744 \n",
       "Big Bend town, Rusk County, Wisconsin        50250 +/- 6241 \n",
       "Big Falls town, Rusk County, Wisconsin       48125 +/- 7814 \n",
       "Bruce village, Rusk County, Wisconsin        28462 +/- 4658 \n",
       "Cedar Rapids town, Rusk County, Wisconsin    36250 +/- 8767 \n",
       "Conrath village, Rusk County, Wisconsin      31250 +/- 30084\n",
       "Dewey town, Rusk County, Wisconsin           47000 +/- 7417 \n",
       "Flambeau town, Rusk County, Wisconsin        50331 +/- 3971 \n",
       "Glen Flora village, Rusk County, Wisconsin   43438 +/- 39729\n",
       "Grant town, Rusk County, Wisconsin           41111 +/- 5358 \n",
       "Grow town, Rusk County, Wisconsin            45417 +/- 4755 \n",
       "Hawkins village, Rusk County, Wisconsin      32917 +/- 6887 \n",
       "Hawkins town, Rusk County, Wisconsin         39722 +/- 5120 \n",
       "Hubbard town, Rusk County, Wisconsin         33125 +/- 16552\n",
       "Ingram village, Rusk County, Wisconsin       40938 +/- 9726 \n",
       "Ladysmith city, Rusk County, Wisconsin       35534 +/- 3956 \n",
       "Lawrence town, Rusk County, Wisconsin        33750 +/- 11977\n",
       "Marshall town, Rusk County, Wisconsin        43269 +/- 4384 \n",
       "Murry town, Rusk County, Wisconsin           35391 +/- 5165 \n",
       "Richland town, Rusk County, Wisconsin        51250 +/- 14635\n",
       "Rusk town, Rusk County, Wisconsin            48750 +/- 9632 \n",
       "Sheldon village, Rusk County, Wisconsin      33958 +/- 10960\n",
       "South Fork town, Rusk County, Wisconsin      32188 +/- 7055 \n",
       "Strickland town, Rusk County, Wisconsin      37500 +/- 19805\n",
       "Stubbs town, Rusk County, Wisconsin          53036 +/- 10566\n",
       "Thornapple town, Rusk County, Wisconsin      45156 +/- 3947 \n",
       "Tony village, Rusk County, Wisconsin         37500 +/- 17099\n",
       "True town, Rusk County, Wisconsin            50278 +/- 7919 \n",
       "Washington town, Rusk County, Wisconsin      36250 +/- 11668\n",
       "Weyerhaeuser village, Rusk County, Wisconsin 26250 +/- 5885 \n",
       "Wilkinson town, Rusk County, Wisconsin       51071 +/- 3391 \n",
       "Willard town, Rusk County, Wisconsin         46250 +/- 8303 \n",
       "Wilson town, Rusk County, Wisconsin          28750 +/- 18643\n"
      ]
     },
     "metadata": {},
     "output_type": "display_data"
    }
   ],
   "source": [
    "acsdata(vars, level = 'county.subdivision', county='Rusk', endyear=2016)"
   ]
  },
  {
   "cell_type": "code",
   "execution_count": null,
   "metadata": {},
   "outputs": [],
   "source": []
  }
 ],
 "metadata": {
  "kernelspec": {
   "display_name": "R",
   "language": "R",
   "name": "ir"
  },
  "language_info": {
   "codemirror_mode": "r",
   "file_extension": ".r",
   "mimetype": "text/x-r-source",
   "name": "R",
   "pygments_lexer": "r",
   "version": "3.4.1"
  }
 },
 "nbformat": 4,
 "nbformat_minor": 2
}
